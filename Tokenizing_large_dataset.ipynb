{
  "nbformat": 4,
  "nbformat_minor": 0,
  "metadata": {
    "colab": {
      "name": "l09c03_nlp_prepare_larger_text_corpus.ipynb",
      "provenance": [],
      "toc_visible": true
    },
    "kernelspec": {
      "name": "python3",
      "display_name": "Python 3.8.5 64-bit"
    },
    "interpreter": {
      "hash": "31f2aee4e71d21fbe5cf8b01ff0e069b9275f58929596ceb00d14d90e3e16cd6"
    }
  },
  "cells": [
    {
      "cell_type": "markdown",
      "metadata": {
        "id": "qzwilbae73N4"
      },
      "source": [
        "# Tokenize and sequence a bigger corpus of text\n"
      ]
    },
    {
      "cell_type": "markdown",
      "metadata": {
        "id": "VcB-N6WrAT9q"
      },
      "source": [
        "So far, you have written some test sentences and generated a word index and then created sequences for the sentences. \n",
        "\n",
        "Now you will tokenize and sequence a larger body of text, specifically reviews from Amazon and Yelp. \n",
        "\n",
        "## About the dataset\n",
        "\n",
        "You will use a dataset containing Amazon and Yelp reviews of products and restaurants. This dataset was originally extracted from [Kaggle](https://www.kaggle.com/marklvl/sentiment-labelled-sentences-data-set).\n",
        "\n",
        "The dataset includes reviews, and each review is labelled as 0 (bad) or 1 (good). However, in this exercise, you will only work with the reviews, not the labels, to practice tokenizing and sequencing the text. \n",
        "\n",
        "### Example good reviews:\n",
        "\n",
        "*   This is hands down the best phone I've ever had.\n",
        "*   Four stars for the food & the guy in the blue shirt for his great vibe & still letting us in to eat !\n",
        "\n",
        "### Example bad reviews:  \n",
        "\n",
        "*   A lady at the table next to us found a live green caterpillar In her salad\n",
        "*   If you plan to use this in a car forget about it.\n",
        "\n",
        "### See more reviews\n",
        "Feel free to [download the dataset](https://drive.google.com/uc?id=13ySLC_ue6Umt9RJYSeM2t-V0kCv-4C-P) from a drive folder belonging to Udacity and open it on your local machine to see more reviews."
      ]
    },
    {
      "cell_type": "code",
      "metadata": {
        "id": "wr21SvWhQhvN"
      },
      "source": [
        "# Import Tokenizer and pad_sequences\n",
        "import tensorflow as tf\n",
        "from tensorflow.keras.preprocessing.text import Tokenizer\n",
        "from tensorflow.keras.preprocessing.sequence import pad_sequences\n",
        "\n",
        "# Import numpy and pandas\n",
        "import numpy as np\n",
        "import pandas as pd\n"
      ],
      "execution_count": 1,
      "outputs": []
    },
    {
      "cell_type": "markdown",
      "metadata": {
        "id": "cJOCSbdERsdc"
      },
      "source": [
        "# Get the corpus of text\n",
        "\n",
        "The combined dataset of reviews has been saved in a Google drive belonging to Udacity. You can download it from there."
      ]
    },
    {
      "cell_type": "code",
      "metadata": {
        "id": "kBpFip-X69Hf"
      },
      "source": [
        "path = tf.keras.utils.get_file('reviews.csv', \n",
        "                               'https://drive.google.com/uc?id=13ySLC_ue6Umt9RJYSeM2t-V0kCv-4C-P')\n",
        "print (path)"
      ],
      "execution_count": 2,
      "outputs": [
        {
          "output_type": "stream",
          "name": "stdout",
          "text": [
            "Downloading data from https://drive.google.com/uc?id=13ySLC_ue6Umt9RJYSeM2t-V0kCv-4C-P\n",
            "131072/127831 [==============================] - 0s 2us/step\n",
            "/home/ritesh/.keras/datasets/reviews.csv\n"
          ]
        }
      ]
    },
    {
      "cell_type": "markdown",
      "metadata": {
        "id": "ZCT57MVGTENX"
      },
      "source": [
        "# Get the dataset\n",
        "\n",
        "Each row in the csv file is a separate review.\n",
        "\n",
        "The csv file has 2 columns:\n",
        "\n",
        "*   **text** (the review)\n",
        "*   **sentiment** (0 or 1 indicating a bad or good review)"
      ]
    },
    {
      "cell_type": "code",
      "metadata": {
        "id": "TlyreClyS7H3"
      },
      "source": [
        "# Read the csv file\n",
        "dataset = pd.read_csv(path, index_col=0)\n",
        "\n",
        "# Review the first few entries in the dataset\n",
        "dataset.head()"
      ],
      "execution_count": 4,
      "outputs": [
        {
          "output_type": "execute_result",
          "data": {
            "text/plain": [
              "                                                text  sentiment\n",
              "0  So there is no way for me to plug it in here i...          0\n",
              "1                         Good case Excellent value.          1\n",
              "2                             Great for the jawbone.          1\n",
              "3  Tied to charger for conversations lasting more...          0\n",
              "4                                  The mic is great.          1"
            ],
            "text/html": "<div>\n<style scoped>\n    .dataframe tbody tr th:only-of-type {\n        vertical-align: middle;\n    }\n\n    .dataframe tbody tr th {\n        vertical-align: top;\n    }\n\n    .dataframe thead th {\n        text-align: right;\n    }\n</style>\n<table border=\"1\" class=\"dataframe\">\n  <thead>\n    <tr style=\"text-align: right;\">\n      <th></th>\n      <th>text</th>\n      <th>sentiment</th>\n    </tr>\n  </thead>\n  <tbody>\n    <tr>\n      <th>0</th>\n      <td>So there is no way for me to plug it in here i...</td>\n      <td>0</td>\n    </tr>\n    <tr>\n      <th>1</th>\n      <td>Good case Excellent value.</td>\n      <td>1</td>\n    </tr>\n    <tr>\n      <th>2</th>\n      <td>Great for the jawbone.</td>\n      <td>1</td>\n    </tr>\n    <tr>\n      <th>3</th>\n      <td>Tied to charger for conversations lasting more...</td>\n      <td>0</td>\n    </tr>\n    <tr>\n      <th>4</th>\n      <td>The mic is great.</td>\n      <td>1</td>\n    </tr>\n  </tbody>\n</table>\n</div>"
          },
          "metadata": {},
          "execution_count": 4
        }
      ]
    },
    {
      "cell_type": "markdown",
      "metadata": {
        "id": "Fk5uzq4Oco7h"
      },
      "source": [
        "# Get the reviews from the csv file"
      ]
    },
    {
      "cell_type": "code",
      "metadata": {
        "id": "u7uCBlAqdEzK"
      },
      "source": [
        "# Get the reviews from the text column\n",
        "reviews = dataset['text'].tolist()"
      ],
      "execution_count": 5,
      "outputs": []
    },
    {
      "cell_type": "markdown",
      "metadata": {
        "id": "OS0mg5yoVzQL"
      },
      "source": [
        "# Tokenize the text\n",
        "Create the tokenizer, specify the OOV token, tokenize the text, then inspect the word index."
      ]
    },
    {
      "cell_type": "code",
      "metadata": {
        "id": "atgLJzAiVwqB",
        "tags": [
          "outputPrepend"
        ]
      },
      "source": [
        "tokenizer = Tokenizer(oov_token=\"<OOV>\")\n",
        "tokenizer.fit_on_texts(reviews)\n",
        "\n",
        "word_index = tokenizer.word_index\n",
        "print(len(word_index))\n",
        "print(word_index)\n"
      ],
      "execution_count": 8,
      "outputs": [
        {
          "output_type": "stream",
          "name": "stdout",
          "text": [
            "events': 2059, 'slipping': 2060, 'span': 2061, 'exclaim': 2062, 'whoa': 2063, 'tv': 2064, 'corded': 2065, 'freedom': 2066, 'mark': 2067, 'shows': 2068, 'functional': 2069, 'soft': 2070, 'tight': 2071, 'shape': 2072, 'copier': 2073, 'sent': 2074, 'anywhere': 2075, 'sold': 2076, 'units': 2077, 'krussel': 2078, 'tracfonewebsite': 2079, 'toactivate': 2080, 'texas': 2081, 'dit': 2082, '5320': 2083, 'mainly': 2084, 'whatever': 2085, 'blueant': 2086, 'supertooth': 2087, 'pcs': 2088, 'sch': 2089, 'r450': 2090, 'slider': 2091, 'premium': 2092, 'plugs': 2093, 'plenty': 2094, 'capacity': 2095, 'confortable': 2096, 'periods': 2097, 'ant': 2098, 'hey': 2099, 'pleasantly': 2100, 'suprised': 2101, 'dustpan': 2102, 'indoors': 2103, 'disposable': 2104, 'puff': 2105, 'ride': 2106, 'smoother': 2107, 'nano': 2108, 'dissapointed': 2109, 'reccommend': 2110, 'carries': 2111, 'highest': 2112, 'anti': 2113, 'glare': 2114, 'smartphone': 2115, 'wont': 2116, 'atleast': 2117, 'addition': 2118, 'amp': 2119, 'reoccure': 2120, 'somewhere': 2121, 'creaks': 2122, 'wooden': 2123, 'floor': 2124, 'apartment': 2125, 'generally': 2126, 'inconspicuous': 2127, 'slowly': 2128, 'impossible': 2129, 'upgrade': 2130, 'securly': 2131, 'possibility': 2132, 'booking': 2133, 'entertainment': 2134, 'communication': 2135, 'activesync': 2136, 'optimal': 2137, 'synchronization': 2138, 'coupon': 2139, 'instance': 2140, 'ps3': 2141, 'cheapy': 2142, 'shouting': 2143, 'telephone': 2144, 'yes': 2145, 'shiny': 2146, 'grtting': 2147, '44': 2148, 'v3c': 2149, 'exceeds': 2150, 'sight': 2151, 'improper': 2152, 'effects': 2153, 'palms': 2154, 'hoped': 2155, 'father': 2156, 'v265': 2157, 'pads': 2158, 'stops': 2159, 'intermittently': 2160, 'reaching': 2161, 'row': 2162, 'keys': 2163, 'nightmare': 2164, 'describe': 2165, 'speakerphone': 2166, 'cassette': 2167, 'cellphones': 2168, 'planning': 2169, \"other's\": 2170, 'products': 2171, 'sensor': 2172, 'reliability': 2173, 'beeping': 2174, 'dieing': 2175, 'ir': 2176, 'cancellation': 2177, 'counterfeit': 2178, 'travled': 2179, 'swivel': 2180, 'sister': 2181, 'dual': 2182, '8125': 2183, 'keeping': 2184, 'bottowm': 2185, 'gimmick': 2186, 'opens': 2187, 'causing': 2188, 'discomfort': 2189, 'trust': 2190, 'maintains': 2191, 'flawless': 2192, 'devices': 2193, 'utterly': 2194, 'confusing': 2195, 'holder': 2196, 'cutouts': 2197, 'land': 2198, 'loops': 2199, 'material': 2200, 'flaws': 2201, 'owning': 2202, 'official': 2203, 'oem': 2204, 'loudest': 2205, 'competitors': 2206, 'saved': 2207, 'alot': 2208, 'cuts': 2209, 'unintelligible': 2210, 'restart': 2211, 'bend': 2212, 'leaf': 2213, 'metal': 2214, 'stress': 2215, 'leopard': 2216, 'print': 2217, 'wonderfully': 2218, 'wild': 2219, 'saggy': 2220, 'floppy': 2221, 'looses': 2222, 'snap': 2223, '8525': 2224, 'carry': 2225, 'fliptop': 2226, 'loose': 2227, 'wobbly': 2228, 'eventually': 2229, 'receive': 2230, 'fulfills': 2231, 'requirements': 2232, 'rests': 2233, 'against': 2234, 'websites': 2235, 'cables': 2236, 'lap': 2237, 'controls': 2238, 'accessable': 2239, 'mine': 2240, 'satisifed': 2241, '2005': 2242, 's710a': 2243, 'specs': 2244, 'armband': 2245, 'allot': 2246, 'clearer': 2247, 'keypads': 2248, 'reach': 2249, 'ericson': 2250, 'z500a': 2251, 'motor': 2252, 'control': 2253, 'center': 2254, 'voltage': 2255, 'humming': 2256, 'equipment': 2257, 'certain': 2258, 'girl': 2259, 'wake': 2260, 'styling': 2261, 'restocking': 2262, 'fee': 2263, 'darn': 2264, 'lousy': 2265, 'sweetest': 2266, 'securely': 2267, 'hook': 2268, 'directed': 2269, 'canal': 2270, 'unsatisfactory': 2271, 'videos': 2272, 'negatively': 2273, 'adapter': 2274, 'provide': 2275, 'hype': 2276, 'assumed': 2277, 'lense': 2278, 'falls': 2279, 'text': 2280, 'messaging': 2281, 'tricky': 2282, 'painful': 2283, 'lasted': 2284, 'blew': 2285, 'flops': 2286, 'smudged': 2287, 'touches': 2288, 'infra': 2289, 'port': 2290, 'irda': 2291, 'bank': 2292, 'holiday': 2293, 'rick': 2294, 'steve': 2295, 'angry': 2296, 'honeslty': 2297, 'ahead': 2298, 'warmer': 2299, 'wayyy': 2300, 'cape': 2301, 'cod': 2302, 'ravoli': 2303, 'chickenwith': 2304, 'cranberry': 2305, 'disgusted': 2306, 'shocked': 2307, 'indicate': 2308, 'cash': 2309, 'burrittos': 2310, 'blah': 2311, 'interior': 2312, 'velvet': 2313, 'cake': 2314, 'ohhh': 2315, 'hole': 2316, 'street': 2317, 'luke': 2318, 'sever': 2319, 'combos': 2320, '23': 2321, 'final': 2322, 'blow': 2323, 'accident': 2324, 'grab': 2325, 'pub': 2326, 'redeeming': 2327, 'hiro': 2328, 'drag': 2329, 'melted': 2330, 'styrofoam': 2331, 'fear': 2332, 'positive': 2333, 'pucks': 2334, 'disgust': 2335, 'register': 2336, 'rib': 2337, 'section': 2338, 'generic': 2339, 'firehouse': 2340, 'refreshing': 2341, 'pink': 2342, 'chow': 2343, 'mein': 2344, 'imaginative': 2345, 'lined': 2346, 'strings': 2347, 'banana': 2348, 'petrified': 2349, 'struggle': 2350, 'wave': 2351, 'receives': 2352, 'cocktails': 2353, 'handmade': 2354, \"we'd\": 2355, 'military': 2356, 'dos': 2357, 'gringos': 2358, 'tastings': 2359, 'jeff': 2360, 'milkshake': 2361, 'chocolate': 2362, 'milk': 2363, 'excalibur': 2364, 'common': 2365, 'sense': 2366, 'appalling': 2367, 'cheated': 2368, 'experiencing': 2369, 'relationship': 2370, 'parties': 2371, 'smelled': 2372, 'trap': 2373, 'turkey': 2374, 'pan': 2375, 'cakes': 2376, 'raving': 2377, 'disaster': 2378, 'tailored': 2379, 'palate': 2380, 'ratio': 2381, 'tenders': 2382, 'unsatisfying': 2383, 'omelets': 2384, 'summary': 2385, 'largely': 2386, 'sexy': 2387, 'outrageously': 2388, 'flirting': 2389, 'hottest': 2390, 'rock': 2391, 'casino': 2392, 'step': 2393, 'forward': 2394, 'bone': 2395, 'bloddy': 2396, \"mary's\": 2397, 'mussels': 2398, 'reduction': 2399, 'buffets': 2400, 'tigerlilly': 2401, 'afternoon': 2402, 'personable': 2403, 'sooooo': 2404, \"let's\": 2405, 'yama': 2406, '40min': 2407, 'arriving': 2408, 'actual': 2409, 'blandest': 2410, 'cuisine': 2411, 'worries': 2412, 'guys': 2413, 'loving': 2414, \"he's\": 2415, 'venture': 2416, 'further': 2417, 'host': 2418, 'lack': 2419, 'bitches': 2420, 'liking': 2421, 'reasons': 2422, 'reviewing': 2423, 'phenomenal': 2424, 'venturing': 2425, 'penne': 2426, 'vodka': 2427, 'including': 2428, 'massive': 2429, 'meatloaf': 2430, 'lox': 2431, 'capers': 2432, 'meet': 2433, 'weekend': 2434, 'suggestions': 2435, 'bamboo': 2436, 'shoots': 2437, 'blanket': 2438, 'moz': 2439, 'subpar': 2440, 'attention': 2441, 'ignore': 2442, 'fiancé': 2443, 'middle': 2444, 'mandalay': 2445, 'forty': 2446, 'vain': 2447, 'crostini': 2448, 'highlights': 2449, 'nigiri': 2450, 'flavored': 2451, 'voodoo': 2452, 'gluten': 2453, 'leftover': 2454, 'relocated': 2455, 'diverse': 2456, 'hella': 2457, 'salty': 2458, 'spinach': 2459, 'avocado': 2460, 'ingredients': 2461, 'handed': 2462, 'listed': 2463, 'waitresses': 2464, 'lordy': 2465, 'khao': 2466, 'soi': 2467, 'terrific': 2468, 'thrilled': 2469, 'accommodations': 2470, 'daughter': 2471, 'caught': 2472, 'judging': 2473, 'inspired': 2474, 'leaves': 2475, 'desired': 2476, 'modern': 2477, 'maintaining': 2478, 'coziness': 2479, 'weekly': 2480, 'haunt': 2481, 'asking': 2482, 'verge': 2483, 'dressed': 2484, 'rudely': 2485, 'hits': 2486, 'quantity': 2487, 'lemon': 2488, 'raspberry': 2489, 'cocktail': 2490, 'imagined': 2491, 'crepe': 2492, 'bits': 2493, 'missing': 2494, \"joey's\": 2495, 'voted': 2496, 'readers': 2497, 'magazine': 2498, 'fridays': 2499, 'blows': 2500, 'exceeding': 2501, 'dreamed': 2502, 'serivce': 2503, 'inviting': 2504, 'lived': 2505, '1979': 2506, 'foot': 2507, 'mixed': 2508, 'mushrooms': 2509, 'yukon': 2510, 'corn': 2511, 'beateous': 2512, 'showed': 2513, 'climbing': 2514, 'tartar': 2515, 'jamaican': 2516, 'mojitos': 2517, 'rich': 2518, 'accordingly': 2519, 'rinse': 2520, 'nude': 2521, 'bussell': 2522, 'sprouts': 2523, 'risotto': 2524, 'hopefully': 2525, 'bodes': 2526, 'wrapped': 2527, 'dates': 2528, 'unbelievable': 2529, 'otto': 2530, 'welcome': 2531, 'mains': 2532, 'uninspired': 2533, 'whenever': 2534, \"world's\": 2535, 'annoying': 2536, 'drunk': 2537, 'patty': 2538, 'uploaded': 2539, 'yeah': 2540, 'sporting': 2541, 'events': 2542, 'walls': 2543, \"tv's\": 2544, \"they'd\": 2545, 'descriptions': 2546, 'eel': 2547, 'sauces': 2548, 'hardest': 2549, \"m's\": 2550, 'supposed': 2551, 'rolled': 2552, 'eyes': 2553, 'providing': 2554, 'flavourful': 2555, 'freezing': 2556, 'reviewer': 2557, 'delights': 2558, 'ayce': 2559, 'lighting': 2560, 'mood': 2561, 'based': 2562, 'gratitude': 2563, \"owner's\": 2564, 'privileged': 2565, 'parents': 2566, 'silently': 2567, 'peanut': 2568, \"would've\": 2569, 'godfathers': 2570, 'tough': 2571, 'recall': 2572, 'exquisite': 2573, 'thus': 2574, 'visited': 2575, 'proclaimed': 2576, 'wildly': 2577, 'veggitarian': 2578, 'platter': 2579, 'madison': 2580, 'ironman': 2581, 'chefs': 2582, 'dedicated': 2583, 'spots': 2584, 'jenni': 2585, 'goat': 2586, 'skimp': 2587, 'mac': 2588, 'stinks': 2589, 'burned': 2590, 'saganaki': 2591, 'disagree': 2592, 'fellow': 2593, 'yelpers': 2594, 'prepared': 2595, 'writing': 2596, 'noodles': 2597, 'chip': 2598, 'count': 2599, 'box': 2600, 'boring': 2601, 'greedy': 2602, 'corporation': 2603, 'dime': 2604, 'atrocious': 2605, 'charming': 2606, 'outdoor': 2607, 'english': 2608, 'muffin': 2609, 'untoasted': 2610, 'bus': 2611, 'figured': 2612, 'publicly': 2613, 'loudly': 2614, 'bbq': 2615, 'lighter': 2616, 'public': 2617, 'ways': 2618, 'downside': 2619, 'shawarrrrrrma': 2620, 'eyed': 2621, 'peas': 2622, 'unreal': 2623, 'vinaigrette': 2624, '00': 2625, 'honor': 2626, 'hut': 2627, 'coupons': 2628, 'unbelievably': 2629, 'covers': 2630, 'replenished': 2631, 'plain': 2632, 'yucky': 2633, '17': 2634, 'delicioso': 2635, 'spaghetti': 2636, 'tucson': 2637, 'chipotle': 2638, 'succulent': 2639, 'baseball': 2640, 'app': 2641, 'genuinely': 2642, 'enthusiastic': 2643, 'sadly': 2644, 'gordon': 2645, \"ramsey's\": 2646, 'shall': 2647, 'sharply': 2648, 'offered': 2649, 'handling': 2650, 'rowdy': 2651, 'despicable': 2652, 'craving': 2653, 'ache': 2654, 'ball': 2655, 'space': 2656, 'elegantly': 2657, 'customize': 2658, 'usual': 2659, 'bean': 2660, 'outta': 2661, 'inconsiderate': 2662, 'hi': 2663, 'dinners': 2664, 'outshining': 2665, 'halibut': 2666, 'starving': 2667, '90': 2668, 'disgrace': 2669, 'def': 2670, 'ethic': 2671, 'andddd': 2672, 'past': 2673, 'located': 2674, 'crystals': 2675, 'shopping': 2676, 'aria': 2677, 'summarize': 2678, 'nay': 2679, 'transcendant': 2680, 'brings': 2681, 'pneumatic': 2682, 'condiment': 2683, 'dispenser': 2684, 'ians': 2685, 'kiddos': 2686, 'bouchon': 2687, 'accountant': 2688, 'screwed': 2689, 'reminds': 2690, 'shops': 2691, 'san': 2692, 'francisco': 2693, 'buldogis': 2694, 'gourmet': 2695, 'frustrated': 2696, 'petty': 2697, 'iced': 2698, 'hungry': 2699, 'teeth': 2700, 'sore': 2701, 'companions': 2702, 'ground': 2703, 'smeared': 2704, 'tracked': 2705, 'pile': 2706, 'bird': 2707, 'poop': 2708, 'furthermore': 2709, 'operation': 2710, 'expert': 2711, 'connisseur': 2712, 'topic': 2713, 'jerk': 2714, 'strike': 2715, 'wants': 2716, 'rushed': 2717, 'across': 2718, 'appetizer': 2719, 'absolutley': 2720, '5lb': 2721, '4ths': 2722, 'gristle': 2723, 'fat': 2724, 'steiners': 2725, 'dollars': 2726, 'fs': 2727, 'pears': 2728, 'almonds': 2729, 'spicier': 2730, 'prefer': 2731, 'ribeye': 2732, 'mesquite': 2733, 'gooodd': 2734, 'connoisseur': 2735, 'difference': 2736, 'contained': 2737, 'mouthful': 2738, 'enjoyable': 2739, 'relaxed': 2740, 'venue': 2741, 'couples': 2742, 'groups': 2743, 'nargile': 2744, 'tater': 2745, 'southwest': 2746, 'vanilla': 2747, 'smooth': 2748, 'profiterole': 2749, 'choux': 2750, 'pastry': 2751, 'az': 2752, \"carly's\": 2753, 'forgetting': 2754, 'ventilation': 2755, 'upgrading': 2756, 'letdown': 2757, 'camelback': 2758, 'shop': 2759, 'cartel': 2760, 'trimmed': 2761, '70': 2762, 'claimed': 2763, 'handled': 2764, 'beautifully': 2765, 'jewel': 2766, 'las': 2767, 'limited': 2768, 'boiled': 2769, 'toro': 2770, 'tartare': 2771, 'cavier': 2772, 'extraordinary': 2773, 'thinly': 2774, 'wagyu': 2775, 'truffle': 2776, 'attached': 2777, 'gas': 2778, 'sign': 2779, 'decide': 2780, 'humiliated': 2781, 'worker': 2782, 'name': 2783, 'callings': 2784, 'conclusion': 2785, 'daily': 2786, 'specials': 2787, 'tragedy': 2788, 'struck': 2789, 'pancake': 2790, 'crawfish': 2791, 'monster': 2792, \"mom's\": 2793, 'multi': 2794, 'grain': 2795, 'pumpkin': 2796, 'pecan': 2797, 'fluffy': 2798, 'airline': 2799, 'noca': 2800, 'gyro': 2801, 'lettuce': 2802, 'thoroughly': 2803, 'pastas': 2804, 'cheesecurds': 2805, 'typical': 2806, 'glance': 2807, 'finger': 2808, 'beauty': 2809, 'greasy': 2810, 'unhealthy': 2811, 'similarly': 2812, 'man': 2813, 'apology': 2814, 'tiramisu': 2815, 'cannoli': 2816, 'sun': 2817, 'meats': 2818, 'frenchman': 2819, 'martini': 2820, 'opinion': 2821, 'gc': 2822, 'sample': 2823, 'thirty': 2824, 'vacant': 2825, 'yellowtail': 2826, 'carpaccio': 2827, 'strangers': 2828, 'hello': 2829, 'donut': 2830, 'saving': 2831, 'disgraceful': 2832, 'suffers': 2833, 'greens': 2834, 'hearts': 2835, 'hankering': 2836, 'forth': 2837, 'consider': 2838, 'theft': 2839, 'eew': 2840, 'complete': 2841, 'overhaul': 2842, 'witnessed': 2843, 'guests': 2844, 'regularly': 2845, 'swung': 2846, 'deeply': 2847, 'efficient': 2848, 'sucker': 2849, 'olives': 2850, 'perpared': 2851, 'giant': 2852, 'slices': 2853, 'dusted': 2854, 'powdered': 2855, 'sugar': 2856, 'fo': 2857, 'accomodate': 2858, 'vegan': 2859, 'veggie': 2860, 'crumby': 2861, 'pale': 2862, 'croutons': 2863, \"it'll\": 2864, 'trips': 2865, 'crema': 2866, 'café': 2867, 'expanded': 2868, 'miss': 2869, 'philadelphia': 2870, 'north': 2871, 'scottsdale': 2872, 'soooooo': 2873, 'freaking': 2874, 'papers': 2875, 'reheated': 2876, 'wedges': 2877, 'absolute': 2878, 'tongue': 2879, 'cheek': 2880, 'bloody': 2881, 'mary': 2882, 'businesses': 2883, 'yellow': 2884, 'saffron': 2885, 'seasoning': 2886, 'grandmother': 2887, 'ignored': 2888, 'hostess': 2889, 'myself': 2890, 'boys': 2891, 'shirt': 2892, 'drastically': 2893, 'caesar': 2894, 'madhouse': 2895, 'proven': 2896, 'greatest': 2897, 'moods': 2898, 'macarons': 2899, 'insanely': 2900, 'informative': 2901, \"weren't\": 2902, 'deliver': 2903, 'plater': 2904, 'relax': 2905, 'sit': 2906, 'screams': 2907, \"somethat's\": 2908, 'duo': 2909, 'violinists': 2910, 'requested': 2911, 'personally': 2912, 'baklava': 2913, 'falafels': 2914, 'baba': 2915, 'ganoush': 2916, 'mgm': 2917, 'courteous': 2918, 'eclectic': 2919, 'onion': 2920, 'rings': 2921, 'nobu': 2922, 'google': 2923, 'smashburger': 2924, 'lover': 2925, 'gem': 2926, 'plantains': 2927, 'spends': 2928, 'themselves': 2929, 'panna': 2930, 'cotta': 2931, 'flavors': 2932, 'slaw': 2933, 'drenched': 2934, 'piano': 2935, 'soundtrack': 2936, 'rge': 2937, 'fillet': 2938, 'relleno': 2939, 'sergeant': 2940, 'auju': 2941, 'hawaiian': 2942, 'breeze': 2943, 'mango': 2944, 'magic': 2945, 'pineapple': 2946, 'smoothies': 2947, 'mortified': 2948, 'anyways': 2949, 'dripping': 2950, '2007': 2951, 'hospitality': 2952, 'industry': 2953, 'paradise': 2954, 'refrained': 2955, 'recommending': 2956, 'cibo': 2957, 'mean': 2958, 'famous': 2959, 'mouths': 2960, 'bellies': 2961, 'reminded': 2962, 'dough': 2963, 'tonight': 2964, 'elk': 2965, 'hooked': 2966, 'classics': 2967, 'sorely': 2968, 'quaint': 2969, 'deliciously': 2970, 'dylan': 2971, 'tummy': 2972, 'gratuity': 2973, 'larger': 2974, 'apple': 2975, 'han': 2976, 'nan': 2977, \"ryan's\": 2978, 'edinburgh': 2979, 'revisiting': 2980, 'naan': 2981, 'pine': 2982, 'nut': 2983, 'touched': 2984, 'airport': 2985, 'speedy': 2986, 'calligraphy': 2987, 'stood': 2988, 'begin': 2989, 'awkwardly': 2990, 'opened': 2991, 'guest': 2992, 'extensive': 2993, 'wide': 2994, 'array': 2995, 'inflate': 2996, 'smaller': 2997, 'grow': 2998, 'rapidly': 2999, 'lil': 3000, 'fuzzy': 3001, 'wontons': 3002, 'thick': 3003, 'level': 3004, 'spice': 3005, 'whelm': 3006, 'main': 3007, 'older': 3008, '30s': 3009, 'arepas': 3010, 'jalapeno': 3011, 'shoe': 3012, 'block': 3013, 'fancy': 3014, 'affordable': 3015, 'sour': 3016, 'soups': 3017, 'sunday': 3018, 'traditional': 3019, 'hunan': 3020, 'flair': 3021, 'bartenders': 3022, 'nutshell': 3023, 'restaraunt': 3024, 'smells': 3025, 'sewer': 3026, \"girlfriend's\": 3027, 'veal': 3028, 'satifying': 3029, 'join': 3030, 'club': 3031, 'email': 3032, 'colder': 3033, 'describing': 3034, 'tepid': 3035, 'chains': 3036, 'words': 3037, 'crowds': 3038, 'juries': 3039, 'lawyers': 3040, 'court': 3041, 'arrives': 3042, 'paying': 3043, '85': 3044, \"kid's\": 3045, 'wienerschnitzel': 3046, 'classic': 3047, 'maine': 3048, 'roll': 3049, 'brother': 3050, 'law': 3051, 'hereas': 3052, 'event': 3053, 'held': 3054, 'pissd': 3055, 'surprise': 3056, 'golden': 3057, 'hopes': 3058, 'bruschetta': 3059, 'devine': 3060, 'employee': 3061, 'lastly': 3062, 'mozzarella': 3063, 'negligent': 3064, 'unwelcome': 3065, 'suggest': 3066, 'consistent': 3067, 'packed': 3068, 'seasonal': 3069, 'fruit': 3070, 'peach': 3071, 'officially': 3072, 'blown': 3073, 'containers': 3074, 'opposed': 3075, 'cramming': 3076, 'takeout': 3077, 'boxes': 3078, 'crêpe': 3079, 'delicate': 3080, 'fair': 3081, 'kabuki': 3082, 'maria': 3083, 'article': 3084, 'spices': 3085, 'fucking': 3086, \"caballero's\": 3087, 'head': 3088, 'oysters': 3089, 'round': 3090, 'disbelief': 3091, 'qualified': 3092, 'version': 3093, 'foods': 3094, 'tolerance': 3095, 'polite': 3096, 'wash': 3097, 'biscuit': 3098, 'coconut': 3099, 'fella': 3100, 'huevos': 3101, 'rancheros': 3102, 'wines': 3103, 'pricey': 3104, 'temp': 3105, 'prepare': 3106, 'bare': 3107, 'gloves': 3108, 'deep': 3109, 'oil': 3110, 'pleasure': 3111, 'plethora': 3112, 'sandwiches': 3113, 'seal': 3114, 'approval': 3115, 'college': 3116, 'cooking': 3117, 'class': 3118, 'editing': 3119, 'besides': 3120, \"costco's\": 3121, 'highlighted': 3122, 'unique': 3123, 'grocery': 3124, 'japanese': 3125, 'dude': 3126, 'doughy': 3127, 'inch': 3128, 'wire': 3129, 'ourselves': 3130, 'albondigas': 3131, 'tomato': 3132, 'meatballs': 3133, 'occasions': 3134, 'medium': 3135, 'bloodiest': 3136, 'anymore': 3137, 'chai': 3138, 'latte': 3139, 'allergy': 3140, 'warnings': 3141, 'clue': 3142, 'contain': 3143, 'peanuts': 3144, 'mediterranean': 3145, 'beers': 3146, 'highlight': 3147, 'concern': 3148, 'mellow': 3149, 'mushroom': 3150, 'strawberry': 3151, 'unprofessional': 3152, 'loyal': 3153, 'patron': 3154, 'occasional': 3155, 'pats': 3156, 'bellagio': 3157, 'anticipated': 3158, 'correct': 3159, 'sals': 3160, 'fav': 3161, 'unexperienced': 3162, 'employees': 3163, 'chickens': 3164, 'heads': 3165, 'steakhouse': 3166, 'concept': 3167, 'guacamole': 3168, 'puréed': 3169, 'postinos': 3170, 'poisoning': 3171, 'batch': 3172, 'thinking': 3173, 'yay': 3174, 'hilarious': 3175, 'eve': 3176, 'remember': 3177, 'caring': 3178, 'teamwork': 3179, 'degree': 3180, 'ri': 3181, 'calamari': 3182, 'fondue': 3183, 'scene': 3184, \"denny's\": 3185, 'downright': 3186, 'waaaaaayyyyyyyyyy': 3187, 'sangria': 3188, 'glass': 3189, 'ridiculous': 3190, 'brisket': 3191, 'trippy': 3192, 'hurry': 3193, 'reservation': 3194, 'stretch': 3195, 'imagination': 3196, 'cashew': 3197, 'chipolte': 3198, 'ranch': 3199, 'dipping': 3200, 'sause': 3201, 'watered': 3202, 'workers': 3203, 'douchey': 3204, 'indoor': 3205, 'garden': 3206, 'con': 3207, 'spotty': 3208, 'ensued': 3209, 'apologize': 3210, 'fill': 3211, 'binge': 3212, 'drinking': 3213, 'carbs': 3214, 'insults': 3215, 'profound': 3216, 'deuchebaggery': 3217, 'solidify': 3218, \"don't'\": 3219, 'combo': 3220, 'ala': 3221, 'cart': 3222, 'blame': 3223, 'rave': 3224, 'del': 3225, 'avoided': 3226, 'hamburger': 3227, 'hell': 3228, \"ya'all\": 3229, 'fireball': 3230, 'disapppointment': 3231, 'correction': 3232, 'heimer': 3233, 'putting': 3234, 'cause': 3235, 'vomited': 3236, 'circumstances': 3237, 'tops': 3238, 'brownish': 3239, 'movies': 3240, 'ha': 3241, 'flop': 3242, '99': 3243, 'bigger': 3244, 'unwrapped': 3245, 'mile': 3246, 'brushfire': 3247, \"hasn't\": 3248, 'closed': 3249, 'mirage': 3250, 'refried': 3251, 'dried': 3252, 'crusty': 3253, 'caterpillar': 3254, 'appetite': 3255, 'instantly': 3256, 'ninja': 3257, \"hadn't\": 3258, 'poured': 3259, 'wound': 3260, 'drawing': 3261}\n"
          ]
        }
      ]
    },
    {
      "cell_type": "markdown",
      "metadata": {
        "id": "Vfh0WGmKWyjI"
      },
      "source": [
        "# Generate sequences for the reviews\n",
        "Generate a sequence for each review. Set the max length to match the longest review. Add the padding zeros at the end of the review for reviews that are not as long as the longest one."
      ]
    },
    {
      "cell_type": "code",
      "metadata": {
        "id": "VwyqBS2nV53o"
      },
      "source": [
        "sequences = tokenizer.texts_to_sequences(reviews)\n",
        "padded_sequences = pad_sequences(sequences, padding='post')\n",
        "\n",
        "# What is the shape of the vector containing the padded sequences?\n",
        "# The shape shows the number of sequences and the length of each one.\n",
        "print(padded_sequences.shape)\n",
        "\n",
        "# What is the first review?\n",
        "print (reviews[0])\n",
        "\n",
        "# Show the sequence for the first review\n",
        "print(padded_sequences[0])\n",
        "\n",
        "# Try printing the review and padded sequence for other elements."
      ],
      "execution_count": 9,
      "outputs": [
        {
          "output_type": "stream",
          "name": "stdout",
          "text": [
            "(1992, 139)\nSo there is no way for me to plug it in here in the US unless I go by a converter.\n[  28   59    8   56  142   13   61    7  269    6   15   46   15    2\n  149  449    4   60  113    5 1429    0    0    0    0    0    0    0\n    0    0    0    0    0    0    0    0    0    0    0    0    0    0\n    0    0    0    0    0    0    0    0    0    0    0    0    0    0\n    0    0    0    0    0    0    0    0    0    0    0    0    0    0\n    0    0    0    0    0    0    0    0    0    0    0    0    0    0\n    0    0    0    0    0    0    0    0    0    0    0    0    0    0\n    0    0    0    0    0    0    0    0    0    0    0    0    0    0\n    0    0    0    0    0    0    0    0    0    0    0    0    0    0\n    0    0    0    0    0    0    0    0    0    0    0    0    0]\n"
          ]
        }
      ]
    },
    {
      "cell_type": "code",
      "execution_count": null,
      "metadata": {},
      "outputs": [],
      "source": []
    }
  ]
}